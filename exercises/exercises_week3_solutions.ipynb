{
 "cells": [
  {
   "cell_type": "code",
   "execution_count": 1,
   "metadata": {
    "collapsed": true
   },
   "outputs": [],
   "source": [
    "import matplotlib.pyplot as plt\n",
    "import numpy as np\n",
    "import pandas as pd\n",
    "import requests\n",
    "import seaborn as sns\n",
    "%matplotlib inline"
   ]
  },
  {
   "cell_type": "markdown",
   "metadata": {},
   "source": [
    "**Part 3.1: Scrape webpage for data links**\n",
    "\n",
    "We load the data"
   ]
  },
  {
   "cell_type": "code",
   "execution_count": 2,
   "metadata": {
    "collapsed": true
   },
   "outputs": [],
   "source": [
    "tips = sns.load_dataset('tips')"
   ]
  },
  {
   "cell_type": "markdown",
   "metadata": {},
   "source": [
    "We make L2 normalization. Then we make dummy variables for string/categorical data. Note that our approach creates a dummy variable for each the sub categories possible. For instance for 'day' we make one for each of the four observed days: Thursday, Friday, Saturday, Sunday. In order to not have perfect multicollinarity we drop the first - i.e. Thursday."
   ]
  },
  {
   "cell_type": "code",
   "execution_count": 4,
   "metadata": {
    "collapsed": true
   },
   "outputs": [],
   "source": [
    "from sklearn.preprocessing import normalize\n",
    "num_cols = ['total_bill', 'tip', 'size']\n",
    "\n",
    "tips[num_cols] = normalize(tips[num_cols])\n",
    "\n",
    "data = pd.get_dummies(tips, drop_first=True)"
   ]
  },
  {
   "cell_type": "markdown",
   "metadata": {},
   "source": [
    "In this step we split the data into test and training. In this solution we keep the indices so that we keep track of which rows belong to test and train. The alternative solution sklearn.model_selection's `train_test_split`."
   ]
  },
  {
   "cell_type": "code",
   "execution_count": 8,
   "metadata": {},
   "outputs": [],
   "source": [
    "from sklearn.model_selection import train_test_split\n",
    "\n",
    "# solution\n",
    "\n",
    "X = data.drop('tip', axis=1).values\n",
    "y = tips.tip.values\n",
    "\n",
    "# splitting\n",
    "\n",
    "train_idxs = data.sample(frac=.7).index\n",
    "test_idxs = np.setdiff1d(data.index, train_idxs)\n",
    "\n",
    "X_train = X[train_idxs]\n",
    "X_test = X[test_idxs]\n",
    "\n",
    "y_train = y[train_idxs]\n",
    "y_test = y[test_idxs]\n",
    "\n",
    "# alternative splitting (does not save indices)\n",
    "\n",
    "X_train, X_test, y_train, y_test = \\\n",
    "    train_test_split(X,y)"
   ]
  }
 ],
 "metadata": {
  "kernelspec": {
   "display_name": "Python 3",
   "language": "python",
   "name": "python3"
  },
  "language_info": {
   "codemirror_mode": {
    "name": "ipython",
    "version": 3
   },
   "file_extension": ".py",
   "mimetype": "text/x-python",
   "name": "python",
   "nbconvert_exporter": "python",
   "pygments_lexer": "ipython3",
   "version": "3.6.1"
  }
 },
 "nbformat": 4,
 "nbformat_minor": 2
}
